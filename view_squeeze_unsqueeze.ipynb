{
  "nbformat": 4,
  "nbformat_minor": 0,
  "metadata": {
    "colab": {
      "name": "view_squeeze_unsqueeze.ipynb",
      "provenance": [],
      "authorship_tag": "ABX9TyNT1f49PZp0vDw15vngPLNp",
      "include_colab_link": true
    },
    "kernelspec": {
      "name": "python3",
      "display_name": "Python 3"
    },
    "language_info": {
      "name": "python"
    }
  },
  "cells": [
    {
      "cell_type": "markdown",
      "metadata": {
        "id": "view-in-github",
        "colab_type": "text"
      },
      "source": [
        "<a href=\"https://colab.research.google.com/github/stephenchenKL/pytorch_tensor/blob/main/view_squeeze_unsqueeze.ipynb\" target=\"_parent\"><img src=\"https://colab.research.google.com/assets/colab-badge.svg\" alt=\"Open In Colab\"/></a>"
      ]
    },
    {
      "cell_type": "code",
      "execution_count": 1,
      "metadata": {
        "id": "w_VVMg5udEVA"
      },
      "outputs": [],
      "source": [
        "import torch\n"
      ]
    },
    {
      "cell_type": "markdown",
      "source": [
        "Create a tensor of *1D*."
      ],
      "metadata": {
        "id": "4ehAYRnreiUK"
      }
    },
    {
      "cell_type": "code",
      "source": [
        "a = torch.tensor(list(range(9)))\n",
        "a,a.shape"
      ],
      "metadata": {
        "colab": {
          "base_uri": "https://localhost:8080/"
        },
        "id": "zTe7o3dmdduR",
        "outputId": "3ef05976-5ec1-4d81-8cf8-9c59057b2659"
      },
      "execution_count": 2,
      "outputs": [
        {
          "output_type": "execute_result",
          "data": {
            "text/plain": [
              "(tensor([0, 1, 2, 3, 4, 5, 6, 7, 8]), torch.Size([9]))"
            ]
          },
          "metadata": {},
          "execution_count": 2
        }
      ]
    },
    {
      "cell_type": "markdown",
      "source": [
        "TORCH.TENSOR.VIEW\n",
        "Tensor.view(*shape) → Tensor\n",
        "Returns a new tensor with the same data as the self tensor but of a different shape.\n",
        "\n",
        "The returned tensor **shares the same data** and must have the **same number of elements**, but may have a different size. "
      ],
      "metadata": {
        "id": "ZYoPwxFM1uzp"
      }
    },
    {
      "cell_type": "code",
      "source": [
        "b = a.view(3,3)\n",
        "b, b.shape"
      ],
      "metadata": {
        "colab": {
          "base_uri": "https://localhost:8080/"
        },
        "id": "o1KndeGjdrkS",
        "outputId": "3cb1081f-da24-4ec8-e365-4f57efcbb112"
      },
      "execution_count": 3,
      "outputs": [
        {
          "output_type": "execute_result",
          "data": {
            "text/plain": [
              "(tensor([[0, 1, 2],\n",
              "         [3, 4, 5],\n",
              "         [6, 7, 8]]), torch.Size([3, 3]))"
            ]
          },
          "metadata": {},
          "execution_count": 3
        }
      ]
    },
    {
      "cell_type": "code",
      "source": [
        "b911 = a.view(9,1,1) # b911 is a tensor which consists of 9 rows of item (b911[0] to b911[8]); each item (b911[i]) is a Size([1, 1]) tensor)\n",
        "temp = b911[1]\n",
        "temp2 = b911[1][0]\n",
        "b911, b911.shape, b911[1].shape, temp, temp2.shape, temp2"
      ],
      "metadata": {
        "colab": {
          "base_uri": "https://localhost:8080/"
        },
        "id": "6I7f2Hf8dw62",
        "outputId": "a302173d-d3f7-4388-9e63-a83263580bd2"
      },
      "execution_count": 4,
      "outputs": [
        {
          "output_type": "execute_result",
          "data": {
            "text/plain": [
              "(tensor([[[0]],\n",
              " \n",
              "         [[1]],\n",
              " \n",
              "         [[2]],\n",
              " \n",
              "         [[3]],\n",
              " \n",
              "         [[4]],\n",
              " \n",
              "         [[5]],\n",
              " \n",
              "         [[6]],\n",
              " \n",
              "         [[7]],\n",
              " \n",
              "         [[8]]]),\n",
              " torch.Size([9, 1, 1]),\n",
              " torch.Size([1, 1]),\n",
              " tensor([[1]]),\n",
              " torch.Size([1]),\n",
              " tensor([1]))"
            ]
          },
          "metadata": {},
          "execution_count": 4
        }
      ]
    },
    {
      "cell_type": "code",
      "source": [
        "d = a.view(3, 3, -1) # return tensor of shape tensor.Size([3, 3, 1])\n",
        "d2 = a.view(1, 1, -1) # return tensor of shape tensor.Size([1, 1, 9])\n",
        "d3 = a.view(1, 9, -1) # return tensor of shape tensor.Size([1, 9, 1])\n",
        "d, d.shape, d2, d2.shape, d3, d3.shape"
      ],
      "metadata": {
        "colab": {
          "base_uri": "https://localhost:8080/"
        },
        "id": "iJfNiRMzeHle",
        "outputId": "330af51f-e3ad-45ec-a64b-8604bdccbef4"
      },
      "execution_count": 5,
      "outputs": [
        {
          "output_type": "execute_result",
          "data": {
            "text/plain": [
              "(tensor([[[0],\n",
              "          [1],\n",
              "          [2]],\n",
              " \n",
              "         [[3],\n",
              "          [4],\n",
              "          [5]],\n",
              " \n",
              "         [[6],\n",
              "          [7],\n",
              "          [8]]]),\n",
              " torch.Size([3, 3, 1]),\n",
              " tensor([[[0, 1, 2, 3, 4, 5, 6, 7, 8]]]),\n",
              " torch.Size([1, 1, 9]),\n",
              " tensor([[[0],\n",
              "          [1],\n",
              "          [2],\n",
              "          [3],\n",
              "          [4],\n",
              "          [5],\n",
              "          [6],\n",
              "          [7],\n",
              "          [8]]]),\n",
              " torch.Size([1, 9, 1]))"
            ]
          },
          "metadata": {},
          "execution_count": 5
        }
      ]
    },
    {
      "cell_type": "markdown",
      "source": [
        "TORCH.UNSQUEEZE\n",
        "torch.unsqueeze(input, dim) → Tensor\n",
        "Returns a new tensor with a dimension of size one inserted at the specified position.\n",
        "\n",
        "The returned tensor shares the same underlying data with this tensor.\n",
        "\n",
        "A dim value within the range [-input.dim() - 1, input.dim() + 1) can be used. Negative dim will correspond to unsqueeze() applied at dim = dim + input.dim() + 1."
      ],
      "metadata": {
        "id": "W14pbmF2yCte"
      }
    },
    {
      "cell_type": "code",
      "source": [
        "d0 = b.view(3,3).unsqueeze(0)\n",
        "d0, d0.shape"
      ],
      "metadata": {
        "colab": {
          "base_uri": "https://localhost:8080/"
        },
        "id": "G8g3cqZhjyBf",
        "outputId": "7edf56b8-afa4-442d-994e-7a5ec0952866"
      },
      "execution_count": 6,
      "outputs": [
        {
          "output_type": "execute_result",
          "data": {
            "text/plain": [
              "(tensor([[[0, 1, 2],\n",
              "          [3, 4, 5],\n",
              "          [6, 7, 8]]]), torch.Size([1, 3, 3]))"
            ]
          },
          "metadata": {},
          "execution_count": 6
        }
      ]
    },
    {
      "cell_type": "code",
      "source": [
        "d2 = b.unsqueeze(2) # or b.unsqueeze(-1)\n",
        "d2, d2.shape"
      ],
      "metadata": {
        "colab": {
          "base_uri": "https://localhost:8080/"
        },
        "id": "o2_hth5_z2ox",
        "outputId": "0b407c5e-abaf-4499-b505-55386c32dd8f"
      },
      "execution_count": 7,
      "outputs": [
        {
          "output_type": "execute_result",
          "data": {
            "text/plain": [
              "(tensor([[[0],\n",
              "          [1],\n",
              "          [2]],\n",
              " \n",
              "         [[3],\n",
              "          [4],\n",
              "          [5]],\n",
              " \n",
              "         [[6],\n",
              "          [7],\n",
              "          [8]]]), torch.Size([3, 3, 1]))"
            ]
          },
          "metadata": {},
          "execution_count": 7
        }
      ]
    },
    {
      "cell_type": "code",
      "source": [
        "d1 =  b.unsqueeze(1) \n",
        "d1, d1.shape"
      ],
      "metadata": {
        "colab": {
          "base_uri": "https://localhost:8080/"
        },
        "id": "tRe0DA1Z0mT-",
        "outputId": "18dbd3bd-ab03-40d2-97b1-df60988facfc"
      },
      "execution_count": 8,
      "outputs": [
        {
          "output_type": "execute_result",
          "data": {
            "text/plain": [
              "(tensor([[[0, 1, 2]],\n",
              " \n",
              "         [[3, 4, 5]],\n",
              " \n",
              "         [[6, 7, 8]]]), torch.Size([3, 1, 3]))"
            ]
          },
          "metadata": {},
          "execution_count": 8
        }
      ]
    },
    {
      "cell_type": "code",
      "source": [
        "e119 = a.unsqueeze(0).unsqueeze(0)\n",
        "e119, e119.shape"
      ],
      "metadata": {
        "colab": {
          "base_uri": "https://localhost:8080/"
        },
        "id": "lzond2lx_c1e",
        "outputId": "73eea7c9-5e5a-46f8-ed92-ac4203fcddef"
      },
      "execution_count": 9,
      "outputs": [
        {
          "output_type": "execute_result",
          "data": {
            "text/plain": [
              "(tensor([[[0, 1, 2, 3, 4, 5, 6, 7, 8]]]), torch.Size([1, 1, 9]))"
            ]
          },
          "metadata": {},
          "execution_count": 9
        }
      ]
    },
    {
      "cell_type": "code",
      "source": [
        "e19 = a.unsqueeze(0)\n",
        "e19, e19.shape"
      ],
      "metadata": {
        "colab": {
          "base_uri": "https://localhost:8080/"
        },
        "id": "PTGmbez5ALlb",
        "outputId": "ce3bb0da-cd05-474b-a27f-e2b55c8750ea"
      },
      "execution_count": 10,
      "outputs": [
        {
          "output_type": "execute_result",
          "data": {
            "text/plain": [
              "(tensor([[0, 1, 2, 3, 4, 5, 6, 7, 8]]), torch.Size([1, 9]))"
            ]
          },
          "metadata": {},
          "execution_count": 10
        }
      ]
    },
    {
      "cell_type": "code",
      "source": [
        "e91 = a.unsqueeze(1)\n",
        "e91, e91.shape"
      ],
      "metadata": {
        "colab": {
          "base_uri": "https://localhost:8080/"
        },
        "id": "DGeXe-D7mv1d",
        "outputId": "89573614-78dd-4f77-9ccb-3ada0f5085af"
      },
      "execution_count": 11,
      "outputs": [
        {
          "output_type": "execute_result",
          "data": {
            "text/plain": [
              "(tensor([[0],\n",
              "         [1],\n",
              "         [2],\n",
              "         [3],\n",
              "         [4],\n",
              "         [5],\n",
              "         [6],\n",
              "         [7],\n",
              "         [8]]), torch.Size([9, 1]))"
            ]
          },
          "metadata": {},
          "execution_count": 11
        }
      ]
    },
    {
      "cell_type": "code",
      "source": [
        "e191 = a.unsqueeze(1).unsqueeze(0)\n",
        "e191, e191.shape"
      ],
      "metadata": {
        "colab": {
          "base_uri": "https://localhost:8080/"
        },
        "id": "-aUSP3DlnTGB",
        "outputId": "867867d5-b0a4-4cf4-a71d-b52897cec9f6"
      },
      "execution_count": 12,
      "outputs": [
        {
          "output_type": "execute_result",
          "data": {
            "text/plain": [
              "(tensor([[[0],\n",
              "          [1],\n",
              "          [2],\n",
              "          [3],\n",
              "          [4],\n",
              "          [5],\n",
              "          [6],\n",
              "          [7],\n",
              "          [8]]]), torch.Size([1, 9, 1]))"
            ]
          },
          "metadata": {},
          "execution_count": 12
        }
      ]
    },
    {
      "cell_type": "code",
      "source": [
        "e911 = a.unsqueeze(1).unsqueeze(1)\n",
        "e911, e911.shape"
      ],
      "metadata": {
        "colab": {
          "base_uri": "https://localhost:8080/"
        },
        "id": "1cBJdbPOpIoP",
        "outputId": "c9ba5748-d933-4b76-e5d9-6cb1b6de91c6"
      },
      "execution_count": 13,
      "outputs": [
        {
          "output_type": "execute_result",
          "data": {
            "text/plain": [
              "(tensor([[[0]],\n",
              " \n",
              "         [[1]],\n",
              " \n",
              "         [[2]],\n",
              " \n",
              "         [[3]],\n",
              " \n",
              "         [[4]],\n",
              " \n",
              "         [[5]],\n",
              " \n",
              "         [[6]],\n",
              " \n",
              "         [[7]],\n",
              " \n",
              "         [[8]]]), torch.Size([9, 1, 1]))"
            ]
          },
          "metadata": {},
          "execution_count": 13
        }
      ]
    }
  ]
}